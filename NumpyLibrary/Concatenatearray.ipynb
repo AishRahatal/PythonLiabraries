{
 "cells": [
  {
   "cell_type": "code",
   "execution_count": 4,
   "metadata": {},
   "outputs": [
    {
     "name": "stdout",
     "output_type": "stream",
     "text": [
      "Array1 : \n",
      "[[0 1 3]\n",
      " [5 7 9]]\n",
      "Array2 : \n",
      "[[ 0  2  4]\n",
      " [ 6  8 10]]\n",
      "Concatenated Array1 and Array2 :\n",
      "[[ 0  1  3  0  2  4]\n",
      " [ 5  7  9  6  8 10]]\n"
     ]
    }
   ],
   "source": [
    "'''\t\n",
    "@Author: Aishwarya\n",
    "@Date: 2021-12-7\n",
    "@Title : concatenate two 2-dimensional arrays.\n",
    "'''\n",
    "########################################################################################################\n",
    "import numpy as np\n",
    "arr1 = np.array([[0, 1, 3], [5, 7, 9]])\n",
    "arr2= np.array([[0, 2, 4], [6, 8, 10]])\n",
    "print(\"Array1 : \")\n",
    "print(arr1)\n",
    "print(\"Array2 : \")\n",
    "print(arr2)\n",
    "arr3 = np.concatenate((arr1, arr2), 1)\n",
    "print(\"Concatenated Array1 and Array2 :\")\n",
    "print(arr3)\n"
   ]
  }
 ],
 "metadata": {
  "interpreter": {
   "hash": "916dbcbb3f70747c44a77c7bcd40155683ae19c65e1c03b4aa3499c5328201f1"
  },
  "kernelspec": {
   "display_name": "Python 3.8.10 64-bit",
   "language": "python",
   "name": "python3"
  },
  "language_info": {
   "codemirror_mode": {
    "name": "ipython",
    "version": 3
   },
   "file_extension": ".py",
   "mimetype": "text/x-python",
   "name": "python",
   "nbconvert_exporter": "python",
   "pygments_lexer": "ipython3",
   "version": "3.8.10"
  },
  "orig_nbformat": 4
 },
 "nbformat": 4,
 "nbformat_minor": 2
}
