{
 "cells": [
  {
   "cell_type": "code",
   "execution_count": 4,
   "metadata": {},
   "outputs": [
    {
     "name": "stdout",
     "output_type": "stream",
     "text": [
      "List into numpy array\n",
      "------------------------------------------\n",
      "List : [12.23, 13.32, 100, 36.32]\n",
      "\n",
      "Numpy Array :  [ 12.23  13.32 100.    36.32]\n",
      "\n"
     ]
    }
   ],
   "source": [
    "'''\t\n",
    "@Author: Aishwarya\n",
    "@Date: 2021-12-6\n",
    "@Title : convert a list of numeric value into a one-dimensional\n",
    "        NumPy array\n",
    "'''\n",
    "########################################################################################################\n",
    "import numpy as np\n",
    "\n",
    "list=[12.23, 13.32, 100, 36.32]\n",
    "print(\"List into numpy array\")\n",
    "print(\"------------------------------------------\")\n",
    "print(\"List :\",list)\n",
    "print()\n",
    "arr=np.array(list)\n",
    "print(\"Numpy Array : \",arr)\n",
    "print()\n",
    "\n",
    "\n"
   ]
  }
 ],
 "metadata": {
  "interpreter": {
   "hash": "916dbcbb3f70747c44a77c7bcd40155683ae19c65e1c03b4aa3499c5328201f1"
  },
  "kernelspec": {
   "display_name": "Python 3.8.10 64-bit",
   "language": "python",
   "name": "python3"
  },
  "language_info": {
   "codemirror_mode": {
    "name": "ipython",
    "version": 3
   },
   "file_extension": ".py",
   "mimetype": "text/x-python",
   "name": "python",
   "nbconvert_exporter": "python",
   "pygments_lexer": "ipython3",
   "version": "3.8.10"
  },
  "orig_nbformat": 4
 },
 "nbformat": 4,
 "nbformat_minor": 2
}
