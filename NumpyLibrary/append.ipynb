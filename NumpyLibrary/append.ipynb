{
 "cells": [
  {
   "cell_type": "code",
   "execution_count": 4,
   "metadata": {},
   "outputs": [
    {
     "name": "stdout",
     "output_type": "stream",
     "text": [
      "Array1 :  [10 20 30]\n",
      "Array2 :  [40 50 60 70 80 90]\n",
      "After appending :  [10 20 30 40 50 60 70 80 90]\n"
     ]
    }
   ],
   "source": [
    "'''\t\n",
    "@Author: Aishwarya\n",
    "@Date: 2021-12-6\n",
    "@Title: append values to array\n",
    "'''\n",
    "##################################################################################################################\n",
    "import numpy as np\n",
    "\n",
    "arr1=np.array([10, 20, 30])\n",
    "print(\"Array1 : \",arr1)\n",
    "arr2=np.array([40, 50, 60 ,70 ,80 ,90])\n",
    "print(\"Array2 : \",arr2)\n",
    "\n",
    "arr=np.append(arr1,arr2)\n",
    "\n",
    "print(\"After appending : \",arr)"
   ]
  }
 ],
 "metadata": {
  "interpreter": {
   "hash": "916dbcbb3f70747c44a77c7bcd40155683ae19c65e1c03b4aa3499c5328201f1"
  },
  "kernelspec": {
   "display_name": "Python 3.8.10 64-bit",
   "language": "python",
   "name": "python3"
  },
  "language_info": {
   "codemirror_mode": {
    "name": "ipython",
    "version": 3
   },
   "file_extension": ".py",
   "mimetype": "text/x-python",
   "name": "python",
   "nbconvert_exporter": "python",
   "pygments_lexer": "ipython3",
   "version": "3.8.10"
  },
  "orig_nbformat": 4
 },
 "nbformat": 4,
 "nbformat_minor": 2
}
