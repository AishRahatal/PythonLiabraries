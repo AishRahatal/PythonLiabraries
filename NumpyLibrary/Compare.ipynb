{
 "cells": [
  {
   "cell_type": "code",
   "execution_count": 1,
   "metadata": {},
   "outputs": [
    {
     "name": "stdout",
     "output_type": "stream",
     "text": [
      "Array1 :  [1 2]\n",
      "Array2 :  [4 5]\n",
      "Array1 greater than Array2 : [False False]\n",
      "Array1 greater and equal to Array2 : [False False]\n",
      "Array1 less than Array2 : [ True  True]\n",
      "Array1 less and equal to Array2 : [ True  True]\n"
     ]
    }
   ],
   "source": [
    "'''\t\n",
    "@Author: Aishwarya\n",
    "@Date: 2021-12-7\n",
    "@Title : compare two arrays.\n",
    "'''\n",
    "########################################################################################################\n",
    "import numpy as np\n",
    "\n",
    "arr1=np.array([ 1,2])\n",
    "arr2=np.array([4,5])\n",
    "\n",
    "print(\"Array1 : \",arr1)\n",
    "print(\"Array2 : \",arr2)\n",
    "\n",
    "print(\"Array1 greater than Array2 :\",np.greater(arr1, arr2))\n",
    "print(\"Array1 greater and equal to Array2 :\",np.greater_equal(arr1, arr2))\n",
    "print(\"Array1 less than Array2 :\",np.less(arr1, arr2))\n",
    "print(\"Array1 less and equal to Array2 :\",np.less_equal(arr1, arr2))\n",
    "\n"
   ]
  }
 ],
 "metadata": {
  "interpreter": {
   "hash": "916dbcbb3f70747c44a77c7bcd40155683ae19c65e1c03b4aa3499c5328201f1"
  },
  "kernelspec": {
   "display_name": "Python 3.8.10 64-bit",
   "language": "python",
   "name": "python3"
  },
  "language_info": {
   "codemirror_mode": {
    "name": "ipython",
    "version": 3
   },
   "file_extension": ".py",
   "mimetype": "text/x-python",
   "name": "python",
   "nbconvert_exporter": "python",
   "pygments_lexer": "ipython3",
   "version": "3.8.10"
  },
  "orig_nbformat": 4
 },
 "nbformat": 4,
 "nbformat_minor": 2
}
