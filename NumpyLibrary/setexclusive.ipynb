{
 "cells": [
  {
   "cell_type": "code",
   "execution_count": 1,
   "metadata": {},
   "outputs": [
    {
     "name": "stdout",
     "output_type": "stream",
     "text": [
      "Array1 :  [ 0 10 20 40 60 80]\n",
      "Array2 :  [10 30 40 50 70 90]\n",
      "Set exclusive between Array1 and Array2 :  [ 0 20 30 50 60 70 80 90]\n"
     ]
    }
   ],
   "source": [
    "'''\t\n",
    "@Author: Aishwarya\n",
    "@Date: 2021-12-7\n",
    "@Title : set exclusive-or of two arrays.\n",
    "'''\n",
    "########################################################################################################\n",
    "import numpy as np\n",
    "\n",
    "arr1=np.array([ 0, 10, 20, 40 ,60,80])\n",
    "arr2=np.array([10, 30, 40, 50, 70, 90])\n",
    "\n",
    "print(\"Array1 : \",arr1)\n",
    "print(\"Array2 : \",arr2)\n",
    "print(\"Set exclusive between Array1 and Array2 : \",np.setxor1d(arr1,arr2))"
   ]
  }
 ],
 "metadata": {
  "interpreter": {
   "hash": "916dbcbb3f70747c44a77c7bcd40155683ae19c65e1c03b4aa3499c5328201f1"
  },
  "kernelspec": {
   "display_name": "Python 3.8.10 64-bit",
   "language": "python",
   "name": "python3"
  },
  "language_info": {
   "codemirror_mode": {
    "name": "ipython",
    "version": 3
   },
   "file_extension": ".py",
   "mimetype": "text/x-python",
   "name": "python",
   "nbconvert_exporter": "python",
   "pygments_lexer": "ipython3",
   "version": "3.8.10"
  },
  "orig_nbformat": 4
 },
 "nbformat": 4,
 "nbformat_minor": 2
}
