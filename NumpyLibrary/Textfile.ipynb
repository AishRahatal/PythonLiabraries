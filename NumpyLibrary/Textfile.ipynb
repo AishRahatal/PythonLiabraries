{
 "cells": [
  {
   "cell_type": "code",
   "execution_count": 4,
   "metadata": {},
   "outputs": [
    {
     "name": "stdout",
     "output_type": "stream",
     "text": [
      "Array:\n",
      " [1 2 3 4 5]\n",
      "\n",
      "Content in file.txt:\n",
      " [1. 2. 3. 4. 5.]\n"
     ]
    }
   ],
   "source": [
    "'''\t\n",
    "@Author: Aishwarya\n",
    "@Date: 2021-12-7\n",
    "@Title : save a NumPy array to a text file.\n",
    "'''\n",
    "########################################################################################################\n",
    "import numpy as np\n",
    "\n",
    "\n",
    "List = [1, 2, 3, 4, 5]\n",
    "Array = np.array(List)\n",
    "\n",
    "\n",
    "print('Array:\\n', Array)\n",
    "np.savetxt(\"textfile.txt\", Array)\n",
    "\n",
    "content = np.loadtxt('textfile.txt')\n",
    "print(\"\\nContent in file.txt:\\n\", content)\n"
   ]
  },
  {
   "cell_type": "code",
   "execution_count": 5,
   "metadata": {},
   "outputs": [
    {
     "name": "stdout",
     "output_type": "stream",
     "text": [
      "Array:\n",
      " [1 2 3 4 5]\n",
      "\n",
      "Content in textfile1.txt:\n",
      " [1 2 3 4 5]\n"
     ]
    }
   ],
   "source": [
    "\n",
    "import numpy\n",
    "\n",
    "# Creating an array\n",
    "List = [1, 2, 3, 4, 5]\n",
    "Array = numpy.array(List)\n",
    "\n",
    "# Displaying the array\n",
    "print('Array:\\n', Array)\n",
    "file = open(\"textfile1.txt\", \"w+\")\n",
    "\n",
    "# Saving the array in a text file\n",
    "content = str(Array)\n",
    "file.write(content)\n",
    "file.close()\n",
    "\n",
    "# Displaying the contents of the text file\n",
    "file = open(\"textfile1.txt\", \"r\")\n",
    "content = file.read()\n",
    "\n",
    "print(\"\\nContent in textfile1.txt:\\n\", content)\n",
    "file.close()\n"
   ]
  },
  {
   "cell_type": "code",
   "execution_count": null,
   "metadata": {},
   "outputs": [],
   "source": []
  }
 ],
 "metadata": {
  "interpreter": {
   "hash": "916dbcbb3f70747c44a77c7bcd40155683ae19c65e1c03b4aa3499c5328201f1"
  },
  "kernelspec": {
   "display_name": "Python 3.8.10 64-bit",
   "language": "python",
   "name": "python3"
  },
  "language_info": {
   "codemirror_mode": {
    "name": "ipython",
    "version": 3
   },
   "file_extension": ".py",
   "mimetype": "text/x-python",
   "name": "python",
   "nbconvert_exporter": "python",
   "pygments_lexer": "ipython3",
   "version": "3.8.10"
  },
  "orig_nbformat": 4
 },
 "nbformat": 4,
 "nbformat_minor": 2
}
