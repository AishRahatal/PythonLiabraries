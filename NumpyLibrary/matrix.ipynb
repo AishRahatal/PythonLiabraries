{
 "cells": [
  {
   "cell_type": "code",
   "execution_count": 6,
   "metadata": {},
   "outputs": [
    {
     "name": "stdout",
     "output_type": "stream",
     "text": [
      "List : [2, 3, 4, 5, 6, 7, 8, 9, 10]\n",
      "\n",
      "Matrix 3x3 :\n",
      "[[ 2  3  4]\n",
      " [ 5  6  7]\n",
      " [ 8  9 10]]\n"
     ]
    }
   ],
   "source": [
    "'''\t\n",
    "@Author: Aishwarya\n",
    "@Date: 2021-12-6\n",
    "@Title : Create a 3x3 matrix with values ranging from 2 to 10\n",
    "'''\n",
    "########################################################################################################\n",
    "import numpy as np\n",
    "\n",
    "list=[]\n",
    "for i in range(2,11):\n",
    "    list.append(i)\n",
    "print(\"List :\",list)\n",
    "print()\n",
    "arr=np.array(list)\n",
    "arr2=arr.reshape(3,3)\n",
    "print(\"Matrix 3x3 :\")\n",
    "print(arr2)"
   ]
  }
 ],
 "metadata": {
  "interpreter": {
   "hash": "916dbcbb3f70747c44a77c7bcd40155683ae19c65e1c03b4aa3499c5328201f1"
  },
  "kernelspec": {
   "display_name": "Python 3.8.10 64-bit",
   "language": "python",
   "name": "python3"
  },
  "language_info": {
   "codemirror_mode": {
    "name": "ipython",
    "version": 3
   },
   "file_extension": ".py",
   "mimetype": "text/x-python",
   "name": "python",
   "nbconvert_exporter": "python",
   "pygments_lexer": "ipython3",
   "version": "3.8.10"
  },
  "orig_nbformat": 4
 },
 "nbformat": 4,
 "nbformat_minor": 2
}
