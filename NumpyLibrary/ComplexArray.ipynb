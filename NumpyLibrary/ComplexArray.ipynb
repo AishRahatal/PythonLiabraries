{
 "cells": [
  {
   "cell_type": "code",
   "execution_count": 3,
   "metadata": {},
   "outputs": [
    {
     "name": "stdout",
     "output_type": "stream",
     "text": [
      "Array : [1.        +0.j         0.70710678+0.70710678j]\n",
      "\n",
      "Real Array : [1.         0.70710678]\n",
      "Imaginary Array : [0.         0.70710678]\n"
     ]
    }
   ],
   "source": [
    "'''\t\n",
    "@Author: Aishwarya\n",
    "@Date: 2021-12-7\n",
    "@Title : The real and imaginary parts of an array of complex\n",
    "          numbers.\n",
    "'''\n",
    "########################################################################################################\n",
    "import numpy as np\n",
    "\n",
    "arr=np.array([1.00000000+0.j ,0.70710678+0.70710678j])\n",
    "print(\"Array :\" ,arr)\n",
    "print()\n",
    "real=np.real(arr)\n",
    "print(\"Real Array :\" ,real)\n",
    "\n",
    "imaginary=np.imag(arr)\n",
    "print(\"Imaginary Array :\" ,imaginary)"
   ]
  }
 ],
 "metadata": {
  "interpreter": {
   "hash": "916dbcbb3f70747c44a77c7bcd40155683ae19c65e1c03b4aa3499c5328201f1"
  },
  "kernelspec": {
   "display_name": "Python 3.8.10 64-bit",
   "language": "python",
   "name": "python3"
  },
  "language_info": {
   "codemirror_mode": {
    "name": "ipython",
    "version": 3
   },
   "file_extension": ".py",
   "mimetype": "text/x-python",
   "name": "python",
   "nbconvert_exporter": "python",
   "pygments_lexer": "ipython3",
   "version": "3.8.10"
  },
  "orig_nbformat": 4
 },
 "nbformat": 4,
 "nbformat_minor": 2
}
