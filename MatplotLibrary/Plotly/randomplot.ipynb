{
 "cells": [
  {
   "cell_type": "code",
   "execution_count": 8,
   "metadata": {},
   "outputs": [
    {
     "data": {
      "application/vnd.plotly.v1+json": {
       "config": {
        "plotlyServerURL": "https://plot.ly"
       },
       "data": [
        {
         "hoverlabel": {
          "namelength": 0
         },
         "hovertemplate": "x=%{x}",
         "legendgroup": "",
         "marker": {
          "color": "#636efa",
          "symbol": "circle"
         },
         "mode": "markers",
         "name": "",
         "showlegend": false,
         "type": "scatter",
         "x": [
          820,
          730,
          763,
          306,
          967,
          593,
          945,
          777,
          928,
          406,
          880,
          966,
          179,
          139,
          166,
          718,
          823,
          782,
          830,
          318,
          795,
          145,
          255,
          523,
          579,
          272,
          636,
          655,
          947,
          748,
          349,
          673,
          958,
          379,
          666,
          988,
          239,
          615,
          248,
          337,
          738,
          840,
          337,
          652,
          533,
          835,
          944,
          293,
          904,
          759,
          923,
          289,
          710,
          333,
          803,
          442,
          427,
          183,
          906,
          289,
          184,
          705,
          561,
          879,
          124,
          736,
          872,
          137,
          836,
          920,
          884,
          479,
          484,
          523,
          629,
          741,
          526,
          609,
          471,
          684,
          403,
          809,
          746,
          193,
          683,
          631,
          930,
          744,
          574,
          106,
          209,
          442,
          568,
          331,
          709,
          427,
          285,
          816,
          449,
          721,
          592,
          504,
          595,
          468,
          662,
          922,
          329,
          286,
          670,
          229,
          535,
          693,
          939,
          749,
          853,
          523,
          707,
          536,
          601,
          707,
          373,
          120,
          959,
          677,
          759,
          228,
          685,
          843,
          741,
          236,
          282,
          240,
          822,
          426,
          523,
          300,
          338,
          791,
          757,
          587,
          873,
          269,
          594,
          968,
          119,
          492,
          152,
          939,
          650,
          752,
          465,
          144,
          762,
          420,
          650,
          622,
          591,
          712,
          719,
          600,
          200,
          146,
          143,
          188,
          358,
          131,
          789,
          765,
          808,
          318,
          961,
          645,
          582,
          201,
          370,
          888,
          959,
          615,
          369,
          710,
          585,
          152,
          745,
          245,
          893,
          662,
          463,
          238,
          485,
          750,
          687,
          808,
          698,
          397,
          149,
          841,
          120,
          822,
          452,
          604,
          868,
          896,
          873,
          564,
          125,
          617,
          274,
          162,
          780,
          976,
          790,
          266,
          469,
          562,
          212,
          558,
          168,
          565,
          679,
          203,
          384,
          598,
          967,
          344,
          735,
          900,
          467,
          612,
          837,
          988,
          765,
          427,
          702,
          815,
          815,
          421,
          356,
          925,
          274,
          304,
          951,
          441,
          374,
          705,
          226,
          471,
          349,
          640,
          759,
          953,
          720,
          463,
          112,
          754,
          255,
          394,
          752,
          658,
          830,
          731,
          694,
          364,
          574,
          119,
          390,
          177,
          828,
          285,
          980,
          726,
          919,
          419,
          280,
          941,
          447,
          584,
          652,
          742,
          615,
          628,
          959,
          825,
          554,
          358,
          833,
          728,
          882,
          193,
          985,
          625,
          132,
          486,
          456,
          469,
          410,
          288,
          586,
          927,
          873,
          977,
          261,
          657,
          301,
          139,
          198,
          794,
          683,
          823,
          804,
          915,
          656,
          571,
          963,
          199,
          340,
          400,
          214,
          595,
          595,
          369,
          149,
          952,
          277,
          347,
          384,
          740,
          213,
          176,
          315,
          424,
          323,
          850,
          304,
          380,
          364,
          436,
          877,
          675,
          571,
          468,
          732,
          474,
          548,
          593,
          687,
          637,
          358,
          925,
          296,
          502,
          144,
          405,
          112,
          390,
          629,
          285,
          995,
          801,
          567,
          197,
          582,
          473,
          429,
          346,
          777,
          711,
          264,
          886,
          832,
          904,
          304,
          222,
          779,
          668,
          956,
          146,
          646,
          519,
          345,
          234,
          743,
          922,
          160,
          717,
          135,
          466,
          420,
          220,
          876,
          340,
          666,
          940,
          462,
          720,
          975,
          476,
          484,
          378,
          913,
          354,
          305,
          498,
          439,
          676,
          453,
          375,
          389,
          347,
          850,
          839,
          906,
          176,
          157,
          956,
          915,
          774,
          994,
          974,
          834,
          702,
          996,
          188,
          450,
          337,
          583,
          170,
          780,
          342,
          771,
          857,
          176,
          488,
          967,
          689,
          344,
          557,
          216,
          888,
          740,
          503,
          552,
          780,
          473,
          148,
          889,
          672,
          166,
          304,
          730,
          714,
          854,
          728,
          853,
          161,
          613,
          455,
          413,
          347,
          112,
          203,
          341,
          643,
          837,
          181,
          453,
          427,
          281,
          521,
          382,
          740,
          137,
          364,
          394,
          742,
          122,
          798,
          279,
          465,
          370,
          470,
          746,
          999,
          100,
          802,
          295,
          588,
          434,
          469,
          523,
          681,
          328,
          973,
          388,
          967,
          309,
          938,
          210,
          191,
          297,
          199,
          569,
          542,
          779,
          157,
          722,
          103,
          810,
          757,
          992,
          160,
          243,
          397,
          708,
          565,
          923,
          366,
          558,
          589,
          807,
          332,
          175,
          900,
          329,
          191,
          668,
          316,
          434,
          572,
          834,
          814,
          764,
          213,
          154,
          370,
          115,
          847,
          974,
          462,
          184,
          761,
          594,
          420,
          307,
          359,
          623,
          669,
          766,
          925,
          400,
          375,
          899,
          548,
          782,
          518,
          924,
          659,
          188,
          778,
          642,
          397,
          940,
          963,
          112,
          855,
          816,
          636,
          189,
          582,
          173,
          850,
          197,
          251,
          960,
          573,
          508,
          531,
          148,
          190,
          960,
          721,
          131,
          363,
          162,
          414,
          340,
          887,
          579,
          887,
          758,
          722,
          823,
          267,
          767,
          325,
          306,
          999,
          459,
          920,
          625,
          895,
          354,
          228,
          506,
          294,
          973,
          869,
          580,
          609,
          769,
          990,
          245,
          964,
          527,
          916,
          273,
          855,
          203,
          124,
          885,
          668,
          751,
          627,
          161,
          167,
          327,
          141,
          642,
          346,
          611,
          544,
          282,
          177,
          981,
          519,
          292,
          392,
          717,
          134,
          462,
          219,
          696,
          350,
          520,
          212,
          136,
          382,
          474,
          605,
          832,
          186,
          139,
          797,
          302,
          832,
          152,
          752,
          477,
          113,
          232,
          425,
          729,
          179,
          116,
          960,
          147,
          443,
          716,
          559,
          653,
          339,
          100,
          680,
          689,
          273,
          179,
          194,
          925,
          245,
          278,
          652,
          616,
          566,
          836,
          859,
          337,
          935,
          385,
          112,
          162,
          227,
          156,
          850,
          410,
          230,
          433,
          884,
          917,
          311,
          769,
          879,
          863,
          857,
          643,
          283,
          960,
          705,
          654,
          452,
          929,
          187,
          156,
          364,
          227,
          456,
          976,
          676,
          819,
          690,
          491,
          227,
          526,
          179,
          351,
          639,
          157,
          654,
          245,
          886,
          992,
          341,
          721,
          815,
          239,
          737,
          391,
          909,
          855,
          175,
          109,
          486,
          793,
          418,
          272,
          277,
          383,
          112,
          464,
          611,
          768,
          157,
          306,
          411,
          531,
          964,
          328,
          228,
          392,
          563,
          230,
          320,
          282,
          486,
          826,
          154,
          764,
          395,
          377,
          484,
          424,
          376,
          915,
          332,
          940,
          916,
          370,
          450,
          126,
          198,
          840,
          136,
          315,
          167,
          532,
          967,
          189,
          368,
          451,
          236,
          239,
          323,
          857,
          745,
          216,
          270,
          304,
          938,
          150,
          244,
          508,
          779,
          443,
          621,
          250,
          276,
          850,
          887,
          968,
          607,
          524,
          613,
          933,
          964,
          792,
          634,
          231,
          268,
          983,
          112,
          911,
          647,
          324,
          391,
          630,
          840,
          319,
          878,
          137,
          443,
          895,
          766,
          681,
          656,
          834,
          165,
          581,
          917,
          437,
          316,
          348,
          853,
          167,
          342,
          705,
          675,
          433,
          717,
          722,
          995,
          649,
          392,
          539,
          907,
          113,
          909,
          166,
          690,
          429,
          483,
          687,
          132,
          152,
          925,
          865,
          337,
          833,
          950,
          271,
          556,
          365,
          413,
          364,
          568,
          987,
          854,
          738,
          860,
          785,
          334,
          320,
          839,
          555,
          771,
          485,
          277,
          790,
          644,
          346,
          890,
          341,
          467,
          277,
          108,
          518,
          200,
          256,
          418,
          566,
          911,
          305,
          479,
          936,
          345,
          142,
          780,
          497,
          886,
          405,
          523,
          513,
          717,
          537,
          960,
          372,
          939,
          892,
          974,
          955,
          621,
          674,
          594,
          923,
          728,
          535,
          367,
          302,
          787,
          464,
          727,
          593,
          728,
          356,
          535,
          948,
          295,
          663,
          866,
          714,
          821,
          141,
          686,
          514,
          955,
          263,
          621,
          552,
          802,
          314,
          784,
          738,
          583,
          949,
          942,
          225,
          365,
          703,
          845,
          924,
          815,
          245,
          760,
          297,
          495,
          335,
          832,
          946,
          851,
          164,
          658,
          141,
          412,
          492,
          620,
          111,
          316,
          155,
          922,
          333,
          366,
          383,
          853,
          623,
          538,
          476,
          573,
          594,
          726,
          190,
          865,
          528,
          224,
          222,
          186,
          436,
          950,
          722,
          573,
          369,
          264,
          889,
          222
         ],
         "xaxis": "x",
         "yaxis": "y"
        }
       ],
       "layout": {
        "legend": {
         "tracegroupgap": 0
        },
        "margin": {
         "t": 60
        },
        "template": {
         "data": {
          "bar": [
           {
            "error_x": {
             "color": "#2a3f5f"
            },
            "error_y": {
             "color": "#2a3f5f"
            },
            "marker": {
             "line": {
              "color": "#E5ECF6",
              "width": 0.5
             }
            },
            "type": "bar"
           }
          ],
          "barpolar": [
           {
            "marker": {
             "line": {
              "color": "#E5ECF6",
              "width": 0.5
             }
            },
            "type": "barpolar"
           }
          ],
          "carpet": [
           {
            "aaxis": {
             "endlinecolor": "#2a3f5f",
             "gridcolor": "white",
             "linecolor": "white",
             "minorgridcolor": "white",
             "startlinecolor": "#2a3f5f"
            },
            "baxis": {
             "endlinecolor": "#2a3f5f",
             "gridcolor": "white",
             "linecolor": "white",
             "minorgridcolor": "white",
             "startlinecolor": "#2a3f5f"
            },
            "type": "carpet"
           }
          ],
          "choropleth": [
           {
            "colorbar": {
             "outlinewidth": 0,
             "ticks": ""
            },
            "type": "choropleth"
           }
          ],
          "contour": [
           {
            "colorbar": {
             "outlinewidth": 0,
             "ticks": ""
            },
            "colorscale": [
             [
              0,
              "#0d0887"
             ],
             [
              0.1111111111111111,
              "#46039f"
             ],
             [
              0.2222222222222222,
              "#7201a8"
             ],
             [
              0.3333333333333333,
              "#9c179e"
             ],
             [
              0.4444444444444444,
              "#bd3786"
             ],
             [
              0.5555555555555556,
              "#d8576b"
             ],
             [
              0.6666666666666666,
              "#ed7953"
             ],
             [
              0.7777777777777778,
              "#fb9f3a"
             ],
             [
              0.8888888888888888,
              "#fdca26"
             ],
             [
              1,
              "#f0f921"
             ]
            ],
            "type": "contour"
           }
          ],
          "contourcarpet": [
           {
            "colorbar": {
             "outlinewidth": 0,
             "ticks": ""
            },
            "type": "contourcarpet"
           }
          ],
          "heatmap": [
           {
            "colorbar": {
             "outlinewidth": 0,
             "ticks": ""
            },
            "colorscale": [
             [
              0,
              "#0d0887"
             ],
             [
              0.1111111111111111,
              "#46039f"
             ],
             [
              0.2222222222222222,
              "#7201a8"
             ],
             [
              0.3333333333333333,
              "#9c179e"
             ],
             [
              0.4444444444444444,
              "#bd3786"
             ],
             [
              0.5555555555555556,
              "#d8576b"
             ],
             [
              0.6666666666666666,
              "#ed7953"
             ],
             [
              0.7777777777777778,
              "#fb9f3a"
             ],
             [
              0.8888888888888888,
              "#fdca26"
             ],
             [
              1,
              "#f0f921"
             ]
            ],
            "type": "heatmap"
           }
          ],
          "heatmapgl": [
           {
            "colorbar": {
             "outlinewidth": 0,
             "ticks": ""
            },
            "colorscale": [
             [
              0,
              "#0d0887"
             ],
             [
              0.1111111111111111,
              "#46039f"
             ],
             [
              0.2222222222222222,
              "#7201a8"
             ],
             [
              0.3333333333333333,
              "#9c179e"
             ],
             [
              0.4444444444444444,
              "#bd3786"
             ],
             [
              0.5555555555555556,
              "#d8576b"
             ],
             [
              0.6666666666666666,
              "#ed7953"
             ],
             [
              0.7777777777777778,
              "#fb9f3a"
             ],
             [
              0.8888888888888888,
              "#fdca26"
             ],
             [
              1,
              "#f0f921"
             ]
            ],
            "type": "heatmapgl"
           }
          ],
          "histogram": [
           {
            "marker": {
             "colorbar": {
              "outlinewidth": 0,
              "ticks": ""
             }
            },
            "type": "histogram"
           }
          ],
          "histogram2d": [
           {
            "colorbar": {
             "outlinewidth": 0,
             "ticks": ""
            },
            "colorscale": [
             [
              0,
              "#0d0887"
             ],
             [
              0.1111111111111111,
              "#46039f"
             ],
             [
              0.2222222222222222,
              "#7201a8"
             ],
             [
              0.3333333333333333,
              "#9c179e"
             ],
             [
              0.4444444444444444,
              "#bd3786"
             ],
             [
              0.5555555555555556,
              "#d8576b"
             ],
             [
              0.6666666666666666,
              "#ed7953"
             ],
             [
              0.7777777777777778,
              "#fb9f3a"
             ],
             [
              0.8888888888888888,
              "#fdca26"
             ],
             [
              1,
              "#f0f921"
             ]
            ],
            "type": "histogram2d"
           }
          ],
          "histogram2dcontour": [
           {
            "colorbar": {
             "outlinewidth": 0,
             "ticks": ""
            },
            "colorscale": [
             [
              0,
              "#0d0887"
             ],
             [
              0.1111111111111111,
              "#46039f"
             ],
             [
              0.2222222222222222,
              "#7201a8"
             ],
             [
              0.3333333333333333,
              "#9c179e"
             ],
             [
              0.4444444444444444,
              "#bd3786"
             ],
             [
              0.5555555555555556,
              "#d8576b"
             ],
             [
              0.6666666666666666,
              "#ed7953"
             ],
             [
              0.7777777777777778,
              "#fb9f3a"
             ],
             [
              0.8888888888888888,
              "#fdca26"
             ],
             [
              1,
              "#f0f921"
             ]
            ],
            "type": "histogram2dcontour"
           }
          ],
          "mesh3d": [
           {
            "colorbar": {
             "outlinewidth": 0,
             "ticks": ""
            },
            "type": "mesh3d"
           }
          ],
          "parcoords": [
           {
            "line": {
             "colorbar": {
              "outlinewidth": 0,
              "ticks": ""
             }
            },
            "type": "parcoords"
           }
          ],
          "pie": [
           {
            "automargin": true,
            "type": "pie"
           }
          ],
          "scatter": [
           {
            "marker": {
             "colorbar": {
              "outlinewidth": 0,
              "ticks": ""
             }
            },
            "type": "scatter"
           }
          ],
          "scatter3d": [
           {
            "line": {
             "colorbar": {
              "outlinewidth": 0,
              "ticks": ""
             }
            },
            "marker": {
             "colorbar": {
              "outlinewidth": 0,
              "ticks": ""
             }
            },
            "type": "scatter3d"
           }
          ],
          "scattercarpet": [
           {
            "marker": {
             "colorbar": {
              "outlinewidth": 0,
              "ticks": ""
             }
            },
            "type": "scattercarpet"
           }
          ],
          "scattergeo": [
           {
            "marker": {
             "colorbar": {
              "outlinewidth": 0,
              "ticks": ""
             }
            },
            "type": "scattergeo"
           }
          ],
          "scattergl": [
           {
            "marker": {
             "colorbar": {
              "outlinewidth": 0,
              "ticks": ""
             }
            },
            "type": "scattergl"
           }
          ],
          "scattermapbox": [
           {
            "marker": {
             "colorbar": {
              "outlinewidth": 0,
              "ticks": ""
             }
            },
            "type": "scattermapbox"
           }
          ],
          "scatterpolar": [
           {
            "marker": {
             "colorbar": {
              "outlinewidth": 0,
              "ticks": ""
             }
            },
            "type": "scatterpolar"
           }
          ],
          "scatterpolargl": [
           {
            "marker": {
             "colorbar": {
              "outlinewidth": 0,
              "ticks": ""
             }
            },
            "type": "scatterpolargl"
           }
          ],
          "scatterternary": [
           {
            "marker": {
             "colorbar": {
              "outlinewidth": 0,
              "ticks": ""
             }
            },
            "type": "scatterternary"
           }
          ],
          "surface": [
           {
            "colorbar": {
             "outlinewidth": 0,
             "ticks": ""
            },
            "colorscale": [
             [
              0,
              "#0d0887"
             ],
             [
              0.1111111111111111,
              "#46039f"
             ],
             [
              0.2222222222222222,
              "#7201a8"
             ],
             [
              0.3333333333333333,
              "#9c179e"
             ],
             [
              0.4444444444444444,
              "#bd3786"
             ],
             [
              0.5555555555555556,
              "#d8576b"
             ],
             [
              0.6666666666666666,
              "#ed7953"
             ],
             [
              0.7777777777777778,
              "#fb9f3a"
             ],
             [
              0.8888888888888888,
              "#fdca26"
             ],
             [
              1,
              "#f0f921"
             ]
            ],
            "type": "surface"
           }
          ],
          "table": [
           {
            "cells": {
             "fill": {
              "color": "#EBF0F8"
             },
             "line": {
              "color": "white"
             }
            },
            "header": {
             "fill": {
              "color": "#C8D4E3"
             },
             "line": {
              "color": "white"
             }
            },
            "type": "table"
           }
          ]
         },
         "layout": {
          "annotationdefaults": {
           "arrowcolor": "#2a3f5f",
           "arrowhead": 0,
           "arrowwidth": 1
          },
          "coloraxis": {
           "colorbar": {
            "outlinewidth": 0,
            "ticks": ""
           }
          },
          "colorscale": {
           "diverging": [
            [
             0,
             "#8e0152"
            ],
            [
             0.1,
             "#c51b7d"
            ],
            [
             0.2,
             "#de77ae"
            ],
            [
             0.3,
             "#f1b6da"
            ],
            [
             0.4,
             "#fde0ef"
            ],
            [
             0.5,
             "#f7f7f7"
            ],
            [
             0.6,
             "#e6f5d0"
            ],
            [
             0.7,
             "#b8e186"
            ],
            [
             0.8,
             "#7fbc41"
            ],
            [
             0.9,
             "#4d9221"
            ],
            [
             1,
             "#276419"
            ]
           ],
           "sequential": [
            [
             0,
             "#0d0887"
            ],
            [
             0.1111111111111111,
             "#46039f"
            ],
            [
             0.2222222222222222,
             "#7201a8"
            ],
            [
             0.3333333333333333,
             "#9c179e"
            ],
            [
             0.4444444444444444,
             "#bd3786"
            ],
            [
             0.5555555555555556,
             "#d8576b"
            ],
            [
             0.6666666666666666,
             "#ed7953"
            ],
            [
             0.7777777777777778,
             "#fb9f3a"
            ],
            [
             0.8888888888888888,
             "#fdca26"
            ],
            [
             1,
             "#f0f921"
            ]
           ],
           "sequentialminus": [
            [
             0,
             "#0d0887"
            ],
            [
             0.1111111111111111,
             "#46039f"
            ],
            [
             0.2222222222222222,
             "#7201a8"
            ],
            [
             0.3333333333333333,
             "#9c179e"
            ],
            [
             0.4444444444444444,
             "#bd3786"
            ],
            [
             0.5555555555555556,
             "#d8576b"
            ],
            [
             0.6666666666666666,
             "#ed7953"
            ],
            [
             0.7777777777777778,
             "#fb9f3a"
            ],
            [
             0.8888888888888888,
             "#fdca26"
            ],
            [
             1,
             "#f0f921"
            ]
           ]
          },
          "colorway": [
           "#636efa",
           "#EF553B",
           "#00cc96",
           "#ab63fa",
           "#FFA15A",
           "#19d3f3",
           "#FF6692",
           "#B6E880",
           "#FF97FF",
           "#FECB52"
          ],
          "font": {
           "color": "#2a3f5f"
          },
          "geo": {
           "bgcolor": "white",
           "lakecolor": "white",
           "landcolor": "#E5ECF6",
           "showlakes": true,
           "showland": true,
           "subunitcolor": "white"
          },
          "hoverlabel": {
           "align": "left"
          },
          "hovermode": "closest",
          "mapbox": {
           "style": "light"
          },
          "paper_bgcolor": "white",
          "plot_bgcolor": "#E5ECF6",
          "polar": {
           "angularaxis": {
            "gridcolor": "white",
            "linecolor": "white",
            "ticks": ""
           },
           "bgcolor": "#E5ECF6",
           "radialaxis": {
            "gridcolor": "white",
            "linecolor": "white",
            "ticks": ""
           }
          },
          "scene": {
           "xaxis": {
            "backgroundcolor": "#E5ECF6",
            "gridcolor": "white",
            "gridwidth": 2,
            "linecolor": "white",
            "showbackground": true,
            "ticks": "",
            "zerolinecolor": "white"
           },
           "yaxis": {
            "backgroundcolor": "#E5ECF6",
            "gridcolor": "white",
            "gridwidth": 2,
            "linecolor": "white",
            "showbackground": true,
            "ticks": "",
            "zerolinecolor": "white"
           },
           "zaxis": {
            "backgroundcolor": "#E5ECF6",
            "gridcolor": "white",
            "gridwidth": 2,
            "linecolor": "white",
            "showbackground": true,
            "ticks": "",
            "zerolinecolor": "white"
           }
          },
          "shapedefaults": {
           "line": {
            "color": "#2a3f5f"
           }
          },
          "ternary": {
           "aaxis": {
            "gridcolor": "white",
            "linecolor": "white",
            "ticks": ""
           },
           "baxis": {
            "gridcolor": "white",
            "linecolor": "white",
            "ticks": ""
           },
           "bgcolor": "#E5ECF6",
           "caxis": {
            "gridcolor": "white",
            "linecolor": "white",
            "ticks": ""
           }
          },
          "title": {
           "x": 0.05
          },
          "xaxis": {
           "automargin": true,
           "gridcolor": "white",
           "linecolor": "white",
           "ticks": "",
           "title": {
            "standoff": 15
           },
           "zerolinecolor": "white",
           "zerolinewidth": 2
          },
          "yaxis": {
           "automargin": true,
           "gridcolor": "white",
           "linecolor": "white",
           "ticks": "",
           "title": {
            "standoff": 15
           },
           "zerolinecolor": "white",
           "zerolinewidth": 2
          }
         }
        },
        "xaxis": {
         "anchor": "y",
         "domain": [
          0,
          1
         ],
         "title": {
          "text": "x"
         }
        },
        "yaxis": {
         "anchor": "x",
         "domain": [
          0,
          1
         ]
        }
       }
      }
     },
     "metadata": {},
     "output_type": "display_data"
    }
   ],
   "source": [
    "'''\n",
    "@Author: Aishwarya\n",
    "@Date: 2021-12-9\n",
    "@Title: draw a scatter plot for random 1000 x and y coordinates\n",
    "'''\n",
    "########################################################################################################\n",
    "import plotly.express as px\n",
    "import numpy as np\n",
    "\t\n",
    "\n",
    "# creating random data through randomint\n",
    "# function of numpy.random\n",
    "np.random.seed(1000) \n",
    "    \n",
    "random_x= np.random.randint(100,1001,1000) \n",
    "random_y= np.random.randint(100,1001,1000) \n",
    "\t\n",
    "plot = px.scatter(random_x, random_y)\n",
    "plot.show()\n"
   ]
  }
 ],
 "metadata": {
  "interpreter": {
   "hash": "31f2aee4e71d21fbe5cf8b01ff0e069b9275f58929596ceb00d14d90e3e16cd6"
  },
  "kernelspec": {
   "display_name": "Python 3.8.10 64-bit",
   "language": "python",
   "name": "python3"
  },
  "language_info": {
   "codemirror_mode": {
    "name": "ipython",
    "version": 3
   },
   "file_extension": ".py",
   "mimetype": "text/x-python",
   "name": "python",
   "nbconvert_exporter": "python",
   "pygments_lexer": "ipython3",
   "version": "3.8.10"
  },
  "orig_nbformat": 4
 },
 "nbformat": 4,
 "nbformat_minor": 2
}
