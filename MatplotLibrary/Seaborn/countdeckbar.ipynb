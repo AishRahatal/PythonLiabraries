{
 "cells": [
  {
   "cell_type": "code",
   "execution_count": 1,
   "metadata": {},
   "outputs": [
    {
     "data": {
      "image/png": "[encoded data removed]",
      "text/plain": [
       "<Figure size 432x288 with 1 Axes>"
      ]
     },
     "metadata": {},
     "output_type": "display_data"
    }
   ],
   "source": [
    "'''\n",
    "@Author: Aishwarya\n",
    "@Date: 2021-12-9\n",
    "@Title: a barplot to show count for a deck for a dataset\n",
    "'''\n",
    "########################################################################################################\n",
    "import matplotlib.pyplot as plt\n",
    "import seaborn as s\n",
    "\n",
    "# Set Seaborn style\n",
    "s.set_style('darkgrid')\n",
    "# Import Data\n",
    "titanic_dataset = s.load_dataset(\"titanic\")\n",
    "\n",
    "# Construct plot\n",
    "s.barplot(x = \"deck\", y = \"survived\", data = titanic_dataset)\n",
    "plt.show()"
   ]
  }
 ],
 "metadata": {
  "interpreter": {
   "hash": "31f2aee4e71d21fbe5cf8b01ff0e069b9275f58929596ceb00d14d90e3e16cd6"
  },
  "kernelspec": {
   "display_name": "Python 3.8.10 64-bit",
   "language": "python",
   "name": "python3"
  },
  "language_info": {
   "codemirror_mode": {
    "name": "ipython",
    "version": 3
   },
   "file_extension": ".py",
   "mimetype": "text/x-python",
   "name": "python",
   "nbconvert_exporter": "python",
   "pygments_lexer": "ipython3",
   "version": "3.8.10"
  },
  "orig_nbformat": 4
 },
 "nbformat": 4,
 "nbformat_minor": 2
}
