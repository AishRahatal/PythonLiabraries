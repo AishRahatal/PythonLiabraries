{
 "cells": [
  {
   "cell_type": "code",
   "execution_count": 2,
   "metadata": {},
   "outputs": [
    {
     "name": "stdout",
     "output_type": "stream",
     "text": [
      "Pandas Series and type:\n",
      "0    1\n",
      "1    2\n",
      "2    3\n",
      "3    4\n",
      "4    5\n",
      "dtype: int64\n",
      "Type : <class 'pandas.core.series.Series'>\n",
      "Series to list:\n",
      "[1, 2, 3, 4, 5]\n",
      "<class 'list'>\n"
     ]
    }
   ],
   "source": [
    "'''\t\n",
    "@Author: Aishwarya\n",
    "@Date: 2021-12-7\n",
    "@Title : convert a Panda module Series to Python list and it's type.\n",
    "'''\n",
    "########################################################################################################\n",
    "import pandas as pd\n",
    "ds = pd.Series([1,2,3,4,5])\n",
    "print(\"Pandas Series and type:\")\n",
    "print(ds)\n",
    "print(\"Type :\",type(ds))\n",
    "print(\"Series to list:\")\n",
    "print(ds.tolist())\n",
    "print(type(ds.tolist()))\n"
   ]
  }
 ],
 "metadata": {
  "interpreter": {
   "hash": "916dbcbb3f70747c44a77c7bcd40155683ae19c65e1c03b4aa3499c5328201f1"
  },
  "kernelspec": {
   "display_name": "Python 3.8.10 64-bit",
   "language": "python",
   "name": "python3"
  },
  "language_info": {
   "codemirror_mode": {
    "name": "ipython",
    "version": 3
   },
   "file_extension": ".py",
   "mimetype": "text/x-python",
   "name": "python",
   "nbconvert_exporter": "python",
   "pygments_lexer": "ipython3",
   "version": "3.8.10"
  },
  "orig_nbformat": 4
 },
 "nbformat": 4,
 "nbformat_minor": 2
}
