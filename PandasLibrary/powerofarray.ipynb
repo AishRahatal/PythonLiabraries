{
 "cells": [
  {
   "cell_type": "code",
   "execution_count": 2,
   "metadata": {},
   "outputs": [
    {
     "name": "stdout",
     "output_type": "stream",
     "text": [
      "Array :  [0 1 2 3 4 5 6]\n",
      "Array in form of series:\n",
      "0    0\n",
      "1    1\n",
      "2    2\n",
      "3    3\n",
      "4    4\n",
      "5    5\n",
      "6    6\n",
      "dtype: int64\n",
      "Element-wise power array\n",
      "0        1\n",
      "1        1\n",
      "2        4\n",
      "3       27\n",
      "4      256\n",
      "5     3125\n",
      "6    46656\n",
      "dtype: int64\n"
     ]
    }
   ],
   "source": [
    "'''\t\n",
    "@Author: Aishwarya\n",
    "@Date: 2021-12-7\n",
    "@Title : get the powers of an array values element-wise.\n",
    "'''\n",
    "########################################################################################################\n",
    "# import required modules\n",
    "import numpy as np\n",
    "import pandas as pd\n",
    "\n",
    "# create an array\n",
    "array = np.arange(7)\n",
    "\n",
    "print(\"Array : \",array)\n",
    "sr = pd.Series(array)\n",
    "\n",
    "print (\"Array in form of series:\")\n",
    "print (sr)\n",
    "power = sr.pow(sr)\n",
    "\n",
    "print (\"Element-wise power array\")\n",
    "print (power)\n"
   ]
  }
 ],
 "metadata": {
  "interpreter": {
   "hash": "916dbcbb3f70747c44a77c7bcd40155683ae19c65e1c03b4aa3499c5328201f1"
  },
  "kernelspec": {
   "display_name": "Python 3.8.10 64-bit",
   "language": "python",
   "name": "python3"
  },
  "language_info": {
   "codemirror_mode": {
    "name": "ipython",
    "version": 3
   },
   "file_extension": ".py",
   "mimetype": "text/x-python",
   "name": "python",
   "nbconvert_exporter": "python",
   "pygments_lexer": "ipython3",
   "version": "3.8.10"
  },
  "orig_nbformat": 4
 },
 "nbformat": 4,
 "nbformat_minor": 2
}
